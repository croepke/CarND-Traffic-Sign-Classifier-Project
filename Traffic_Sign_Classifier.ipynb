{
 "cells": [
  {
   "cell_type": "markdown",
   "metadata": {},
   "source": [
    "# Self-Driving Car Engineer Nanodegree\n",
    "\n",
    "## Deep Learning\n",
    "\n",
    "## Project: Build a Traffic Sign Recognition Classifier\n",
    "\n",
    "In this notebook, a template is provided for you to implement your functionality in stages, which is required to successfully complete this project. If additional code is required that cannot be included in the notebook, be sure that the Python code is successfully imported and included in your submission if necessary. \n",
    "\n",
    "> **Note**: Once you have completed all of the code implementations, you need to finalize your work by exporting the iPython Notebook as an HTML document. Before exporting the notebook to html, all of the code cells need to have been run so that reviewers can see the final implementation and output. You can then export the notebook by using the menu above and navigating to  \\n\",\n",
    "    \"**File -> Download as -> HTML (.html)**. Include the finished document along with this notebook as your submission. \n",
    "\n",
    "In addition to implementing code, there is a writeup to complete. The writeup should be completed in a separate file, which can be either a markdown file or a pdf document. There is a [write up template](https://github.com/udacity/CarND-Traffic-Sign-Classifier-Project/blob/master/writeup_template.md) that can be used to guide the writing process. Completing the code template and writeup template will cover all of the [rubric points](https://review.udacity.com/#!/rubrics/481/view) for this project.\n",
    "\n",
    "The [rubric](https://review.udacity.com/#!/rubrics/481/view) contains \"Stand Out Suggestions\" for enhancing the project beyond the minimum requirements. The stand out suggestions are optional. If you decide to pursue the \"stand out suggestions\", you can include the code in this Ipython notebook and also discuss the results in the writeup file.\n",
    "\n",
    "\n",
    ">**Note:** Code and Markdown cells can be executed using the **Shift + Enter** keyboard shortcut. In addition, Markdown cells can be edited by typically double-clicking the cell to enter edit mode."
   ]
  },
  {
   "cell_type": "markdown",
   "metadata": {},
   "source": [
    "---\n",
    "## Step 0: Load The Data"
   ]
  },
  {
   "cell_type": "code",
   "execution_count": 97,
   "metadata": {
    "collapsed": true
   },
   "outputs": [],
   "source": [
    "# Load pickled data\n",
    "import pickle\n",
    "\n",
    "# TODO: Fill this in based on where you saved the training and testing data\n",
    "\n",
    "training_file = 'data/train.p'\n",
    "validation_file='data/valid.p'\n",
    "testing_file = 'data/test.p'\n",
    "\n",
    "with open(training_file, mode='rb') as f:\n",
    "    train = pickle.load(f)\n",
    "with open(validation_file, mode='rb') as f:\n",
    "    valid = pickle.load(f)\n",
    "with open(testing_file, mode='rb') as f:\n",
    "    test = pickle.load(f)\n",
    "    \n",
    "X_train, y_train = train['features'], train['labels']\n",
    "X_valid, y_valid = valid['features'], valid['labels']\n",
    "X_test, y_test = test['features'], test['labels']"
   ]
  },
  {
   "cell_type": "markdown",
   "metadata": {},
   "source": [
    "---\n",
    "\n",
    "## Step 1: Dataset Summary & Exploration\n",
    "\n",
    "The pickled data is a dictionary with 4 key/value pairs:\n",
    "\n",
    "- `'features'` is a 4D array containing raw pixel data of the traffic sign images, (num examples, width, height, channels).\n",
    "- `'labels'` is a 1D array containing the label/class id of the traffic sign. The file `signnames.csv` contains id -> name mappings for each id.\n",
    "- `'sizes'` is a list containing tuples, (width, height) representing the original width and height the image.\n",
    "- `'coords'` is a list containing tuples, (x1, y1, x2, y2) representing coordinates of a bounding box around the sign in the image. **THESE COORDINATES ASSUME THE ORIGINAL IMAGE. THE PICKLED DATA CONTAINS RESIZED VERSIONS (32 by 32) OF THESE IMAGES**\n",
    "\n",
    "Complete the basic data summary below. Use python, numpy and/or pandas methods to calculate the data summary rather than hard coding the results. For example, the [pandas shape method](http://pandas.pydata.org/pandas-docs/stable/generated/pandas.DataFrame.shape.html) might be useful for calculating some of the summary results. "
   ]
  },
  {
   "cell_type": "markdown",
   "metadata": {},
   "source": [
    "### Provide a Basic Summary of the Data Set Using Python, Numpy and/or Pandas"
   ]
  },
  {
   "cell_type": "code",
   "execution_count": 2,
   "metadata": {},
   "outputs": [
    {
     "name": "stdout",
     "output_type": "stream",
     "text": [
      "Number of training examples = 34799\n",
      "Number of testing examples = 12630\n",
      "Image data shape = (32, 32, 3)\n",
      "Number of classes = 43\n"
     ]
    }
   ],
   "source": [
    "### Replace each question mark with the appropriate value. \n",
    "### Use python, pandas or numpy methods rather than hard coding the results\n",
    "\n",
    "# TODO: Number of training examples\n",
    "n_train = X_train.shape[0]\n",
    "\n",
    "# TODO: Number of validation examples\n",
    "n_validation = X_valid.shape[0]\n",
    "\n",
    "# TODO: Number of testing examples.\n",
    "n_test = X_test.shape[0] \n",
    "\n",
    "# TODO: What's the shape of an traffic sign image?\n",
    "image_shape = X_train.shape[1:]\n",
    "\n",
    "# TODO: How many unique classes/labels there are in the dataset.\n",
    "n_classes = len(set(y_train))\n",
    "\n",
    "print(\"Number of training examples =\", n_train)\n",
    "print(\"Number of testing examples =\", n_test)\n",
    "print(\"Image data shape =\", image_shape)\n",
    "print(\"Number of classes =\", n_classes)"
   ]
  },
  {
   "cell_type": "markdown",
   "metadata": {},
   "source": [
    "### Include an exploratory visualization of the dataset"
   ]
  },
  {
   "cell_type": "markdown",
   "metadata": {},
   "source": [
    "Visualize the German Traffic Signs Dataset using the pickled file(s). This is open ended, suggestions include: plotting traffic sign images, plotting the count of each sign, etc. \n",
    "\n",
    "The [Matplotlib](http://matplotlib.org/) [examples](http://matplotlib.org/examples/index.html) and [gallery](http://matplotlib.org/gallery.html) pages are a great resource for doing visualizations in Python.\n",
    "\n",
    "**NOTE:** It's recommended you start with something simple first. If you wish to do more, come back to it after you've completed the rest of the sections. It can be interesting to look at the distribution of classes in the training, validation and test set. Is the distribution the same? Are there more examples of some classes than others?"
   ]
  },
  {
   "cell_type": "code",
   "execution_count": 3,
   "metadata": {},
   "outputs": [
    {
     "data": {
      "text/plain": [
       "<matplotlib.image.AxesImage at 0x7ff6086baf60>"
      ]
     },
     "execution_count": 3,
     "metadata": {},
     "output_type": "execute_result"
    },
    {
     "data": {
      "image/png": "[encoded data removed]",
      "text/plain": [
       "<matplotlib.figure.Figure at 0x7ff6306c4860>"
      ]
     },
     "metadata": {},
     "output_type": "display_data"
    }
   ],
   "source": [
    "### Data exploration visualization code goes here.\n",
    "### Feel free to use as many code cells as needed.\n",
    "import matplotlib.pyplot as plt\n",
    "# Visualizations will be shown in the notebook.\n",
    "%matplotlib inline\n",
    "plt.imshow(X_train[2])"
   ]
  },
  {
   "cell_type": "code",
   "execution_count": 4,
   "metadata": {},
   "outputs": [
    {
     "data": {
      "image/png": "[encoded data removed]",
      "text/plain": [
       "<matplotlib.figure.Figure at 0x7ff60865f5c0>"
      ]
     },
     "metadata": {},
     "output_type": "display_data"
    }
   ],
   "source": [
    "plt.hist(y_train,43)\n",
    "plt.xlabel('Traffic signs')\n",
    "plt.ylabel('Counts')\n",
    "plt.show()"
   ]
  },
  {
   "cell_type": "code",
   "execution_count": 5,
   "metadata": {},
   "outputs": [
    {
     "data": {
      "image/png": "[encoded data removed]",
      "text/plain": [
       "<matplotlib.figure.Figure at 0x7ff608512c50>"
      ]
     },
     "metadata": {},
     "output_type": "display_data"
    }
   ],
   "source": [
    "plt.hist(y_test,43)\n",
    "plt.xlabel('Traffic signs')\n",
    "plt.ylabel('Counts')\n",
    "plt.show()"
   ]
  },
  {
   "cell_type": "code",
   "execution_count": 6,
   "metadata": {},
   "outputs": [
    {
     "data": {
      "image/png": "[encoded data removed]",
      "text/plain": [
       "<matplotlib.figure.Figure at 0x7ff6084f7f98>"
      ]
     },
     "metadata": {},
     "output_type": "display_data"
    }
   ],
   "source": [
    "plt.hist(y_valid,43)\n",
    "plt.xlabel('Traffic signs')\n",
    "plt.ylabel('Counts')\n",
    "plt.show()"
   ]
  },
  {
   "cell_type": "markdown",
   "metadata": {},
   "source": [
    "----\n",
    "\n",
    "## Step 2: Design and Test a Model Architecture\n",
    "\n",
    "Design and implement a deep learning model that learns to recognize traffic signs. Train and test your model on the [German Traffic Sign Dataset](http://benchmark.ini.rub.de/?section=gtsrb&subsection=dataset).\n",
    "\n",
    "The LeNet-5 implementation shown in the [classroom](https://classroom.udacity.com/nanodegrees/nd013/parts/fbf77062-5703-404e-b60c-95b78b2f3f9e/modules/6df7ae49-c61c-4bb2-a23e-6527e69209ec/lessons/601ae704-1035-4287-8b11-e2c2716217ad/concepts/d4aca031-508f-4e0b-b493-e7b706120f81) at the end of the CNN lesson is a solid starting point. You'll have to change the number of classes and possibly the preprocessing, but aside from that it's plug and play! \n",
    "\n",
    "With the LeNet-5 solution from the lecture, you should expect a validation set accuracy of about 0.89. To meet specifications, the validation set accuracy will need to be at least 0.93. It is possible to get an even higher accuracy, but 0.93 is the minimum for a successful project submission. \n",
    "\n",
    "There are various aspects to consider when thinking about this problem:\n",
    "\n",
    "- Neural network architecture (is the network over or underfitting?)\n",
    "- Play around preprocessing techniques (normalization, rgb to grayscale, etc)\n",
    "- Number of examples per label (some have more than others).\n",
    "- Generate fake data.\n",
    "\n",
    "Here is an example of a [published baseline model on this problem](http://yann.lecun.com/exdb/publis/pdf/sermanet-ijcnn-11.pdf). It's not required to be familiar with the approach used in the paper but, it's good practice to try to read papers like these."
   ]
  },
  {
   "cell_type": "markdown",
   "metadata": {},
   "source": [
    "### Pre-process the Data Set (normalization, grayscale, etc.)"
   ]
  },
  {
   "cell_type": "markdown",
   "metadata": {},
   "source": [
    "Minimally, the image data should be normalized so that the data has mean zero and equal variance. For image data, `(pixel - 128)/ 128` is a quick way to approximately normalize the data and can be used in this project. \n",
    "\n",
    "Other pre-processing steps are optional. You can try different techniques to see if it improves performance. \n",
    "\n",
    "Use the code cell (or multiple code cells, if necessary) to implement the first step of your project."
   ]
  },
  {
   "cell_type": "code",
   "execution_count": 83,
   "metadata": {
    "collapsed": true
   },
   "outputs": [],
   "source": [
    "### Preprocess the data here. It is required to normalize the data. Other preprocessing steps could include \n",
    "### converting to grayscale, etc.\n",
    "### Feel free to use as many code cells as needed.\n",
    "import numpy as np\n",
    "from sklearn.utils import shuffle\n",
    "def normalize(x):\n",
    "    return (x-np.min(x))/(np.max(x)-np.min(x))"
   ]
  },
  {
   "cell_type": "code",
   "execution_count": 84,
   "metadata": {},
   "outputs": [],
   "source": [
    "X_train = normalize(X_train)\n",
    "X_valid = normalize(X_valid)\n",
    "X_test = normalize(X_test)"
   ]
  },
  {
   "cell_type": "markdown",
   "metadata": {},
   "source": [
    "### Model Architecture"
   ]
  },
  {
   "cell_type": "code",
   "execution_count": 88,
   "metadata": {},
   "outputs": [
    {
     "data": {
      "text/plain": [
       "array([[[[ 0.05098039,  0.04705882,  0.04705882],\n",
       "         [ 0.04705882,  0.04313725,  0.04705882],\n",
       "         [ 0.05098039,  0.04313725,  0.04313725],\n",
       "         ..., \n",
       "         [ 0.05490196,  0.04705882,  0.04313725],\n",
       "         [ 0.05098039,  0.04705882,  0.04313725],\n",
       "         [ 0.04705882,  0.04705882,  0.04313725]],\n",
       "\n",
       "        [[ 0.05098039,  0.04705882,  0.05098039],\n",
       "         [ 0.04705882,  0.04313725,  0.04705882],\n",
       "         [ 0.05098039,  0.04705882,  0.04705882],\n",
       "         ..., \n",
       "         [ 0.05098039,  0.04705882,  0.04313725],\n",
       "         [ 0.05098039,  0.04705882,  0.04313725],\n",
       "         [ 0.04705882,  0.04705882,  0.04313725]],\n",
       "\n",
       "        [[ 0.05098039,  0.04705882,  0.05098039],\n",
       "         [ 0.04705882,  0.04313725,  0.04705882],\n",
       "         [ 0.04705882,  0.04705882,  0.04705882],\n",
       "         ..., \n",
       "         [ 0.05098039,  0.04705882,  0.04313725],\n",
       "         [ 0.05098039,  0.04705882,  0.04313725],\n",
       "         [ 0.04705882,  0.04705882,  0.04313725]],\n",
       "\n",
       "        ..., \n",
       "        [[ 0.0627451 ,  0.05882353,  0.05882353],\n",
       "         [ 0.05882353,  0.05490196,  0.05490196],\n",
       "         [ 0.05882353,  0.05882353,  0.05882353],\n",
       "         ..., \n",
       "         [ 0.05098039,  0.04705882,  0.04705882],\n",
       "         [ 0.05490196,  0.05098039,  0.05098039],\n",
       "         [ 0.05490196,  0.05098039,  0.05098039]],\n",
       "\n",
       "        [[ 0.07058824,  0.0627451 ,  0.0627451 ],\n",
       "         [ 0.06666667,  0.05882353,  0.05882353],\n",
       "         [ 0.07058824,  0.0627451 ,  0.0627451 ],\n",
       "         ..., \n",
       "         [ 0.04705882,  0.04313725,  0.04313725],\n",
       "         [ 0.05098039,  0.04705882,  0.04705882],\n",
       "         [ 0.05490196,  0.05098039,  0.05098039]],\n",
       "\n",
       "        [[ 0.0745098 ,  0.06666667,  0.06666667],\n",
       "         [ 0.07058824,  0.0627451 ,  0.0627451 ],\n",
       "         [ 0.0745098 ,  0.06666667,  0.06666667],\n",
       "         ..., \n",
       "         [ 0.04705882,  0.04705882,  0.04705882],\n",
       "         [ 0.05098039,  0.05098039,  0.05098039],\n",
       "         [ 0.05882353,  0.05490196,  0.05490196]]],\n",
       "\n",
       "\n",
       "       [[[ 0.05490196,  0.04705882,  0.04705882],\n",
       "         [ 0.04705882,  0.04705882,  0.04705882],\n",
       "         [ 0.04705882,  0.05098039,  0.05098039],\n",
       "         ..., \n",
       "         [ 0.05882353,  0.04705882,  0.04313725],\n",
       "         [ 0.05490196,  0.05098039,  0.04705882],\n",
       "         [ 0.05098039,  0.05098039,  0.04705882]],\n",
       "\n",
       "        [[ 0.05098039,  0.04705882,  0.04705882],\n",
       "         [ 0.04705882,  0.04705882,  0.05098039],\n",
       "         [ 0.05098039,  0.05098039,  0.05098039],\n",
       "         ..., \n",
       "         [ 0.05490196,  0.05098039,  0.04313725],\n",
       "         [ 0.05882353,  0.05490196,  0.05098039],\n",
       "         [ 0.05098039,  0.05098039,  0.04705882]],\n",
       "\n",
       "        [[ 0.04705882,  0.04705882,  0.04705882],\n",
       "         [ 0.04705882,  0.04705882,  0.05098039],\n",
       "         [ 0.04705882,  0.04705882,  0.04705882],\n",
       "         ..., \n",
       "         [ 0.05098039,  0.04705882,  0.04313725],\n",
       "         [ 0.05490196,  0.05098039,  0.04705882],\n",
       "         [ 0.05098039,  0.04705882,  0.04705882]],\n",
       "\n",
       "        ..., \n",
       "        [[ 0.05882353,  0.05490196,  0.05490196],\n",
       "         [ 0.05882353,  0.05490196,  0.05490196],\n",
       "         [ 0.05490196,  0.05098039,  0.05098039],\n",
       "         ..., \n",
       "         [ 0.05490196,  0.05490196,  0.05490196],\n",
       "         [ 0.05490196,  0.05882353,  0.05490196],\n",
       "         [ 0.05098039,  0.05098039,  0.04705882]],\n",
       "\n",
       "        [[ 0.0627451 ,  0.05882353,  0.05882353],\n",
       "         [ 0.0627451 ,  0.05882353,  0.05882353],\n",
       "         [ 0.0627451 ,  0.05882353,  0.05882353],\n",
       "         ..., \n",
       "         [ 0.05098039,  0.05098039,  0.04705882],\n",
       "         [ 0.05098039,  0.05490196,  0.05098039],\n",
       "         [ 0.05098039,  0.05098039,  0.04705882]],\n",
       "\n",
       "        [[ 0.0627451 ,  0.0627451 ,  0.0627451 ],\n",
       "         [ 0.06666667,  0.0627451 ,  0.0627451 ],\n",
       "         [ 0.07058824,  0.0627451 ,  0.0627451 ],\n",
       "         ..., \n",
       "         [ 0.04705882,  0.04705882,  0.04313725],\n",
       "         [ 0.05098039,  0.05098039,  0.04705882],\n",
       "         [ 0.05490196,  0.05490196,  0.04705882]]],\n",
       "\n",
       "\n",
       "       [[[ 0.05098039,  0.04313725,  0.04313725],\n",
       "         [ 0.04705882,  0.04313725,  0.04705882],\n",
       "         [ 0.04705882,  0.04705882,  0.04705882],\n",
       "         ..., \n",
       "         [ 0.05882353,  0.04705882,  0.04705882],\n",
       "         [ 0.04705882,  0.04705882,  0.04313725],\n",
       "         [ 0.04705882,  0.05098039,  0.04705882]],\n",
       "\n",
       "        [[ 0.05098039,  0.04705882,  0.04705882],\n",
       "         [ 0.04705882,  0.04313725,  0.04705882],\n",
       "         [ 0.05098039,  0.04705882,  0.04705882],\n",
       "         ..., \n",
       "         [ 0.05490196,  0.04705882,  0.04705882],\n",
       "         [ 0.04705882,  0.04705882,  0.04313725],\n",
       "         [ 0.05098039,  0.05098039,  0.04313725]],\n",
       "\n",
       "        [[ 0.04705882,  0.04313725,  0.04313725],\n",
       "         [ 0.05098039,  0.04705882,  0.04705882],\n",
       "         [ 0.05490196,  0.04705882,  0.04705882],\n",
       "         ..., \n",
       "         [ 0.04705882,  0.04705882,  0.04705882],\n",
       "         [ 0.04313725,  0.04705882,  0.04313725],\n",
       "         [ 0.05098039,  0.05098039,  0.04705882]],\n",
       "\n",
       "        ..., \n",
       "        [[ 0.05098039,  0.05098039,  0.05098039],\n",
       "         [ 0.05490196,  0.05490196,  0.05490196],\n",
       "         [ 0.05490196,  0.05490196,  0.05490196],\n",
       "         ..., \n",
       "         [ 0.04705882,  0.04705882,  0.05098039],\n",
       "         [ 0.05490196,  0.05490196,  0.05098039],\n",
       "         [ 0.05098039,  0.05098039,  0.04705882]],\n",
       "\n",
       "        [[ 0.0627451 ,  0.0627451 ,  0.05882353],\n",
       "         [ 0.0627451 ,  0.0627451 ,  0.05882353],\n",
       "         [ 0.05882353,  0.0627451 ,  0.05882353],\n",
       "         ..., \n",
       "         [ 0.04313725,  0.04313725,  0.04313725],\n",
       "         [ 0.04705882,  0.04705882,  0.04705882],\n",
       "         [ 0.05490196,  0.05490196,  0.05098039]],\n",
       "\n",
       "        [[ 0.0745098 ,  0.07058824,  0.06666667],\n",
       "         [ 0.06666667,  0.06666667,  0.0627451 ],\n",
       "         [ 0.06666667,  0.06666667,  0.0627451 ],\n",
       "         ..., \n",
       "         [ 0.04705882,  0.04705882,  0.04705882],\n",
       "         [ 0.05098039,  0.05098039,  0.05098039],\n",
       "         [ 0.05098039,  0.05098039,  0.04705882]]],\n",
       "\n",
       "\n",
       "       ..., \n",
       "       [[[ 0.24313725,  0.25098039,  0.25490196],\n",
       "         [ 0.23921569,  0.24313725,  0.25882353],\n",
       "         [ 0.24705882,  0.23921569,  0.24313725],\n",
       "         ..., \n",
       "         [ 0.19215686,  0.18431373,  0.18823529],\n",
       "         [ 0.18431373,  0.18039216,  0.19215686],\n",
       "         [ 0.18431373,  0.18431373,  0.19215686]],\n",
       "\n",
       "        [[ 0.22745098,  0.23529412,  0.24313725],\n",
       "         [ 0.22352941,  0.23137255,  0.24705882],\n",
       "         [ 0.23137255,  0.23137255,  0.24313725],\n",
       "         ..., \n",
       "         [ 0.2       ,  0.18431373,  0.19607843],\n",
       "         [ 0.19215686,  0.18039216,  0.19215686],\n",
       "         [ 0.18823529,  0.18039216,  0.19215686]],\n",
       "\n",
       "        [[ 0.21960784,  0.21568627,  0.23137255],\n",
       "         [ 0.21568627,  0.21176471,  0.22745098],\n",
       "         [ 0.21568627,  0.21176471,  0.22352941],\n",
       "         ..., \n",
       "         [ 0.20392157,  0.19607843,  0.2       ],\n",
       "         [ 0.19607843,  0.18431373,  0.19607843],\n",
       "         [ 0.18823529,  0.18039216,  0.19215686]],\n",
       "\n",
       "        ..., \n",
       "        [[ 0.19607843,  0.19215686,  0.20392157],\n",
       "         [ 0.21568627,  0.19607843,  0.2       ],\n",
       "         [ 0.19607843,  0.18039216,  0.18431373],\n",
       "         ..., \n",
       "         [ 0.17647059,  0.16862745,  0.16862745],\n",
       "         [ 0.18039216,  0.17254902,  0.16862745],\n",
       "         [ 0.18039216,  0.16862745,  0.16862745]],\n",
       "\n",
       "        [[ 0.22352941,  0.19215686,  0.20392157],\n",
       "         [ 0.21960784,  0.19215686,  0.19607843],\n",
       "         [ 0.21960784,  0.2       ,  0.20784314],\n",
       "         ..., \n",
       "         [ 0.17647059,  0.16470588,  0.16862745],\n",
       "         [ 0.17647059,  0.16862745,  0.17254902],\n",
       "         [ 0.17647059,  0.16862745,  0.17254902]],\n",
       "\n",
       "        [[ 0.23529412,  0.19607843,  0.2       ],\n",
       "         [ 0.22745098,  0.18431373,  0.19215686],\n",
       "         [ 0.22745098,  0.18431373,  0.18823529],\n",
       "         ..., \n",
       "         [ 0.17254902,  0.16862745,  0.17254902],\n",
       "         [ 0.18039216,  0.17254902,  0.17254902],\n",
       "         [ 0.18039216,  0.17254902,  0.17254902]]],\n",
       "\n",
       "\n",
       "       [[[ 0.25490196,  0.25882353,  0.26666667],\n",
       "         [ 0.25490196,  0.24705882,  0.27058824],\n",
       "         [ 0.2627451 ,  0.25490196,  0.2627451 ],\n",
       "         ..., \n",
       "         [ 0.16862745,  0.16470588,  0.17254902],\n",
       "         [ 0.16470588,  0.16470588,  0.17254902],\n",
       "         [ 0.16470588,  0.16078431,  0.16470588]],\n",
       "\n",
       "        [[ 0.28627451,  0.28235294,  0.29411765],\n",
       "         [ 0.28627451,  0.28235294,  0.29411765],\n",
       "         [ 0.29019608,  0.28627451,  0.29019608],\n",
       "         ..., \n",
       "         [ 0.16470588,  0.16470588,  0.17254902],\n",
       "         [ 0.16862745,  0.16470588,  0.17254902],\n",
       "         [ 0.16470588,  0.16078431,  0.16470588]],\n",
       "\n",
       "        [[ 0.2745098 ,  0.2745098 ,  0.27843137],\n",
       "         [ 0.2745098 ,  0.27843137,  0.28627451],\n",
       "         [ 0.2745098 ,  0.2745098 ,  0.2745098 ],\n",
       "         ..., \n",
       "         [ 0.16470588,  0.16470588,  0.17254902],\n",
       "         [ 0.16470588,  0.16078431,  0.17254902],\n",
       "         [ 0.16078431,  0.15686275,  0.16470588]],\n",
       "\n",
       "        ..., \n",
       "        [[ 0.18039216,  0.17647059,  0.18431373],\n",
       "         [ 0.18039216,  0.17254902,  0.18039216],\n",
       "         [ 0.18039216,  0.17254902,  0.17647059],\n",
       "         ..., \n",
       "         [ 0.17254902,  0.16470588,  0.16470588],\n",
       "         [ 0.17254902,  0.16470588,  0.16862745],\n",
       "         [ 0.16862745,  0.16078431,  0.16078431]],\n",
       "\n",
       "        [[ 0.18431373,  0.17647059,  0.18039216],\n",
       "         [ 0.17647059,  0.16862745,  0.18039216],\n",
       "         [ 0.18039216,  0.16862745,  0.17647059],\n",
       "         ..., \n",
       "         [ 0.17254902,  0.16470588,  0.16470588],\n",
       "         [ 0.17254902,  0.16078431,  0.16470588],\n",
       "         [ 0.17254902,  0.15686275,  0.16078431]],\n",
       "\n",
       "        [[ 0.20392157,  0.18823529,  0.18823529],\n",
       "         [ 0.18039216,  0.17254902,  0.17647059],\n",
       "         [ 0.18039216,  0.16862745,  0.18039216],\n",
       "         ..., \n",
       "         [ 0.17254902,  0.16470588,  0.16470588],\n",
       "         [ 0.17254902,  0.16078431,  0.16470588],\n",
       "         [ 0.16470588,  0.15686275,  0.16078431]]],\n",
       "\n",
       "\n",
       "       [[[ 0.25882353,  0.25490196,  0.25882353],\n",
       "         [ 0.25098039,  0.24313725,  0.24705882],\n",
       "         [ 0.25098039,  0.25098039,  0.25490196],\n",
       "         ..., \n",
       "         [ 0.14509804,  0.14509804,  0.14901961],\n",
       "         [ 0.14509804,  0.14509804,  0.14901961],\n",
       "         [ 0.14901961,  0.14509804,  0.15294118]],\n",
       "\n",
       "        [[ 0.22745098,  0.22745098,  0.22745098],\n",
       "         [ 0.23529412,  0.21960784,  0.21960784],\n",
       "         [ 0.21568627,  0.21568627,  0.21960784],\n",
       "         ..., \n",
       "         [ 0.14509804,  0.14509804,  0.14901961],\n",
       "         [ 0.14509804,  0.14117647,  0.14901961],\n",
       "         [ 0.14117647,  0.14117647,  0.14509804]],\n",
       "\n",
       "        [[ 0.25098039,  0.25098039,  0.25490196],\n",
       "         [ 0.25490196,  0.25490196,  0.25882353],\n",
       "         [ 0.25490196,  0.25098039,  0.2627451 ],\n",
       "         ..., \n",
       "         [ 0.14509804,  0.14509804,  0.14509804],\n",
       "         [ 0.14509804,  0.14117647,  0.14901961],\n",
       "         [ 0.14509804,  0.14117647,  0.14509804]],\n",
       "\n",
       "        ..., \n",
       "        [[ 0.16470588,  0.16078431,  0.16862745],\n",
       "         [ 0.16470588,  0.16078431,  0.16470588],\n",
       "         [ 0.16078431,  0.15686275,  0.16470588],\n",
       "         ..., \n",
       "         [ 0.1372549 ,  0.13333333,  0.1372549 ],\n",
       "         [ 0.13333333,  0.12941176,  0.13333333],\n",
       "         [ 0.13333333,  0.12941176,  0.13333333]],\n",
       "\n",
       "        [[ 0.16862745,  0.16470588,  0.16862745],\n",
       "         [ 0.16862745,  0.16470588,  0.16470588],\n",
       "         [ 0.16470588,  0.16078431,  0.16470588],\n",
       "         ..., \n",
       "         [ 0.13333333,  0.12941176,  0.12941176],\n",
       "         [ 0.13333333,  0.13333333,  0.1372549 ],\n",
       "         [ 0.1372549 ,  0.12941176,  0.13333333]],\n",
       "\n",
       "        [[ 0.17254902,  0.16470588,  0.17254902],\n",
       "         [ 0.16862745,  0.16470588,  0.16862745],\n",
       "         [ 0.16862745,  0.16470588,  0.16470588],\n",
       "         ..., \n",
       "         [ 0.13333333,  0.12941176,  0.13333333],\n",
       "         [ 0.13333333,  0.13333333,  0.13333333],\n",
       "         [ 0.13333333,  0.13333333,  0.1372549 ]]]])"
      ]
     },
     "execution_count": 88,
     "metadata": {},
     "output_type": "execute_result"
    }
   ],
   "source": [
    "X_valid"
   ]
  },
  {
   "cell_type": "code",
   "execution_count": 56,
   "metadata": {},
   "outputs": [],
   "source": [
    "### Define your architecture here.\n",
    "### Feel free to use as many code cells as needed.\n",
    "import tensorflow as tf\n",
    "from tensorflow.contrib.layers import flatten\n",
    "\n",
    "x = tf.placeholder(tf.float32, shape=(None, 32, 32, 3))\n",
    "y = tf.placeholder(tf.int32, shape=(None))\n",
    "one_hot_y = tf.one_hot(y, 43)\n",
    "\n",
    "def LeNet(x):\n",
    "    mu = 0\n",
    "    sigma = 0.1\n",
    "    \n",
    "    # Layer 1: Convolutional. Input = 32x32x3. Output = 28x28x6.\n",
    "    conv1_w = tf.Variable(tf.truncated_normal(shape=(5, 5, 3, 6), mean=mu, stddev=sigma))\n",
    "    conv1_b = tf.Variable(tf.zeros(6))\n",
    "    conv1 = tf.nn.conv2d(x, conv1_w, [1, 1 , 1, 1], padding='VALID') + conv1_b\n",
    "    conv1 = tf.nn.relu(conv1)\n",
    "\n",
    "    # Pooling. Input = 28x28x6. Output = 14x14x6.\n",
    "    pool1 = tf.nn.max_pool(conv1, [1, 2, 2, 1], [1, 2, 2, 1], padding='VALID')\n",
    "    \n",
    "    # Layer 2: Convolutional. Input = 14x14x6. Output = 10x10x16.\n",
    "    conv2_w = tf.Variable(tf.truncated_normal(shape=(5, 5, 6, 16), mean=mu, stddev=sigma))\n",
    "    conv2_b = tf.Variable(tf.zeros(16))\n",
    "    conv2 = tf.nn.conv2d(pool1, conv2_w, [1, 1, 1, 1], padding='VALID') + conv2_b\n",
    "    conv2 = tf.nn.relu(conv2)\n",
    "\n",
    "    # Pooling. Input = 10x10x16. Output = 5x5x16.\n",
    "    pool2 = tf.nn.max_pool(conv2, [1, 2, 2, 1], [1, 2, 2, 1], padding='VALID')\n",
    "    \n",
    "    # Flatten. Input = 5x5x16. Output = 400.\n",
    "    flat = flatten(pool2)\n",
    "    \n",
    "    # Layer 3: Fully Connected. Input = 400. Output = 120.\n",
    "    fc1_w = tf.Variable(tf.truncated_normal(shape=(400, 120), mean=mu, stddev=sigma))\n",
    "    fc1_b = tf.Variable(tf.zeros(120))\n",
    "    fc1 = tf.add(tf.matmul(flat, fc1_w), fc1_b)\n",
    "    fc1 = tf.nn.relu(fc1)\n",
    "    \n",
    "    # Layer 4: Fully Connected. Input = 120. Output = 84.\n",
    "    fc2_w = tf.Variable(tf.truncated_normal(shape=(120, 84), mean=mu, stddev=sigma))\n",
    "    fc2_b = tf.Variable(tf.zeros(84))\n",
    "    fc2 = tf.add(tf.matmul(fc1, fc2_w), fc2_b)\n",
    "    fc2 = tf.nn.relu(fc2)\n",
    "\n",
    "    # Layer 5: Fully Connected. Input = 84. Output = 43.\n",
    "    fc3_w = tf.Variable(tf.truncated_normal(shape=(84, 43), mean=mu, stddev=sigma))\n",
    "    fc3_b = tf.Variable(tf.zeros(43))\n",
    "    logits = tf.add(tf.matmul(fc2, fc3_w), fc3_b)\n",
    "    \n",
    "    return logits"
   ]
  },
  {
   "cell_type": "code",
   "execution_count": 57,
   "metadata": {},
   "outputs": [],
   "source": [
    "### Training\n",
    "learning_rate = 0.001\n",
    "epochs = 10\n",
    "batch_size = 256\n",
    "\n",
    "logits = LeNet(x)\n",
    "cross_entropy = tf.nn.softmax_cross_entropy_with_logits(labels=one_hot_y, logits=logits)\n",
    "loss_operation = tf.reduce_mean(cross_entropy)\n",
    "optimizer = tf.train.AdamOptimizer(learning_rate = learning_rate)\n",
    "training_operation = optimizer.minimize(loss_operation)"
   ]
  },
  {
   "cell_type": "code",
   "execution_count": 91,
   "metadata": {
    "collapsed": true
   },
   "outputs": [],
   "source": [
    "### Evaluation\n",
    "correct_predictions = tf.equal(tf.argmax(logits, 1), tf.argmax(one_hot_y, 1))\n",
    "accuracy_operation = tf.reduce_mean(tf.cast(correct_predictions, tf.float32))\n",
    "\n",
    "def evaluate(batch_x, batch_y):\n",
    "    num_examples = len(batch_x)\n",
    "    print(len(batch_x))\n",
    "    total_accuracy = 0\n",
    "    sess = tf.get_default_session()\n",
    "    for offset in range(0, num_examples, batch_size):\n",
    "        batch_x, batch_y = batch_x[offset:offset+batch_size], batch_y[offset:offset+batch_size]\n",
    "        accuracy = sess.run(accuracy_operation, feed_dict={x: batch_x, y: batch_y})\n",
    "        total_accuracy += (accuracy * len(batch_x))    \n",
    "    return total_accuracy / num_examples"
   ]
  },
  {
   "cell_type": "code",
   "execution_count": 95,
   "metadata": {
    "collapsed": true
   },
   "outputs": [],
   "source": [
    "\n",
    "def print_stats(session, feature_batch, label_batch, cost, accuracy):\n",
    "    \"\"\"\n",
    "    Print information about loss and validation accuracy\n",
    "    : session: Current TensorFlow session\n",
    "    : feature_batch: Batch of Numpy image data\n",
    "    : label_batch: Batch of Numpy label data\n",
    "    : cost: TensorFlow cost function\n",
    "    : accuracy: TensorFlow accuracy function\n",
    "    \"\"\"\n",
    "    loss = session.run(cost, feed_dict={x: feature_batch, y: label_batch})\n",
    "    validation_accuracy = sess.run(accuracy, feed_dict={\n",
    "        x: X_valid,\n",
    "        y: y_valid\n",
    "    })\n",
    "    print('Loss: {:>10.4f} Validation Accuracy: {:.6f}'.format(loss, validation_accuracy))"
   ]
  },
  {
   "cell_type": "markdown",
   "metadata": {},
   "source": [
    "### Train, Validate and Test the Model"
   ]
  },
  {
   "cell_type": "markdown",
   "metadata": {},
   "source": [
    "A validation set can be used to assess how well the model is performing. A low accuracy on the training and validation\n",
    "sets imply underfitting. A high accuracy on the training set but low accuracy on the validation set implies overfitting."
   ]
  },
  {
   "cell_type": "code",
   "execution_count": 109,
   "metadata": {},
   "outputs": [
    {
     "name": "stdout",
     "output_type": "stream",
     "text": [
      "Training...\n",
      "\n",
      "EPOCH: 1, Batch: 50 Loss:     2.9408 Validation Accuracy: 0.219274\n",
      "Training accuracy: 0.25\n",
      "EPOCH: 1, Batch: 100 Loss:     1.8949 Validation Accuracy: 0.429252\n",
      "Training accuracy: 0.5234375\n",
      "Test accuracy: 0.5191607475280762\n",
      "EPOCH: 2, Batch: 50 Loss:     1.0192 Validation Accuracy: 0.580272\n",
      "Training accuracy: 0.6953125\n",
      "EPOCH: 2, Batch: 100 Loss:     0.9467 Validation Accuracy: 0.641270\n",
      "Training accuracy: 0.78125\n",
      "Test accuracy: 0.678622305393219\n",
      "EPOCH: 3, Batch: 50 Loss:     0.5792 Validation Accuracy: 0.703628\n",
      "Training accuracy: 0.86328125\n",
      "EPOCH: 3, Batch: 100 Loss:     0.5442 Validation Accuracy: 0.731973\n",
      "Training accuracy: 0.82421875\n",
      "Test accuracy: 0.7475059628486633\n",
      "EPOCH: 4, Batch: 50 Loss:     0.4893 Validation Accuracy: 0.765306\n",
      "Training accuracy: 0.8828125\n",
      "EPOCH: 4, Batch: 100 Loss:     0.4371 Validation Accuracy: 0.774830\n",
      "Training accuracy: 0.87890625\n",
      "Test accuracy: 0.789073646068573\n",
      "EPOCH: 5, Batch: 50 Loss:     0.2462 Validation Accuracy: 0.803401\n",
      "Training accuracy: 0.93359375\n",
      "EPOCH: 5, Batch: 100 Loss:     0.3443 Validation Accuracy: 0.805442\n",
      "Training accuracy: 0.90234375\n",
      "Test accuracy: 0.807838499546051\n",
      "EPOCH: 6, Batch: 50 Loss:     0.1770 Validation Accuracy: 0.797959\n",
      "Training accuracy: 0.9609375\n",
      "EPOCH: 6, Batch: 100 Loss:     0.1990 Validation Accuracy: 0.798413\n",
      "Training accuracy: 0.94140625\n",
      "Test accuracy: 0.8244655728340149\n",
      "EPOCH: 7, Batch: 50 Loss:     0.1552 Validation Accuracy: 0.827211\n",
      "Training accuracy: 0.95703125\n",
      "EPOCH: 7, Batch: 100 Loss:     0.0909 Validation Accuracy: 0.832880\n",
      "Training accuracy: 0.98046875\n",
      "Test accuracy: 0.8348376750946045\n",
      "EPOCH: 8, Batch: 50 Loss:     0.1256 Validation Accuracy: 0.823356\n",
      "Training accuracy: 0.96484375\n",
      "EPOCH: 8, Batch: 100 Loss:     0.1541 Validation Accuracy: 0.820862\n",
      "Training accuracy: 0.9609375\n",
      "Test accuracy: 0.8522565364837646\n",
      "EPOCH: 9, Batch: 50 Loss:     0.0858 Validation Accuracy: 0.841723\n",
      "Training accuracy: 0.9765625\n",
      "EPOCH: 9, Batch: 100 Loss:     0.1052 Validation Accuracy: 0.836961\n",
      "Training accuracy: 0.97265625\n",
      "Test accuracy: 0.8455265164375305\n",
      "EPOCH: 10, Batch: 50 Loss:     0.0981 Validation Accuracy: 0.823356\n",
      "Training accuracy: 0.98046875\n",
      "EPOCH: 10, Batch: 100 Loss:     0.1003 Validation Accuracy: 0.846485\n",
      "Training accuracy: 0.98046875\n",
      "Test accuracy: 0.8560569882392883\n",
      "Model saved\n"
     ]
    }
   ],
   "source": [
    "### Train your model here.\n",
    "### Calculate and report the accuracy on the training and validation set.\n",
    "### Once a final model architecture is selected, \n",
    "### the accuracy on the test set should be calculated and reported as well.\n",
    "### Feel free to use as many code cells as needed.\n",
    "with tf.Session() as sess:\n",
    "    sess.run(tf.global_variables_initializer())\n",
    "    num_examples = len(X_train)\n",
    "    \n",
    "    print(\"Training...\")\n",
    "    print()\n",
    "    for i in range(epochs):\n",
    "        X_train, y_train = shuffle(X_train, y_train)\n",
    "        batch_i = 1\n",
    "        for offset in range(0, num_examples, batch_size):\n",
    "            end = offset + batch_size\n",
    "            batch_x, batch_y = X_train[offset:end], y_train[offset:end]\n",
    "            sess.run(training_operation, feed_dict={x: batch_x, y: batch_y})\n",
    "            if(batch_i % 50 ==0):\n",
    "                print('EPOCH: {}, Batch: {} '.format(i+1, batch_i), end='')\n",
    "                print_stats(sess, batch_x, batch_y, loss_operation, accuracy_operation)\n",
    "                train_acc = sess.run(accuracy_operation, feed_dict={x:batch_x, y:batch_y})\n",
    "                print('Training accuracy: {}'.format(train_acc))\n",
    "            batch_i+=1\n",
    "        test_acc = sess.run(accuracy_operation, feed_dict={x:X_test, y:y_test})\n",
    "        print('Test accuracy: {}'.format(test_acc))\n",
    "    #saver.save(sess, './lenet')\n",
    "    print(\"Model saved\")"
   ]
  },
  {
   "cell_type": "markdown",
   "metadata": {},
   "source": [
    "---\n",
    "\n",
    "## Step 3: Test a Model on New Images\n",
    "\n",
    "To give yourself more insight into how your model is working, download at least five pictures of German traffic signs from the web and use your model to predict the traffic sign type.\n",
    "\n",
    "You may find `signnames.csv` useful as it contains mappings from the class id (integer) to the actual sign name."
   ]
  },
  {
   "cell_type": "markdown",
   "metadata": {},
   "source": [
    "### Load and Output the Images"
   ]
  },
  {
   "cell_type": "code",
   "execution_count": null,
   "metadata": {
    "collapsed": true
   },
   "outputs": [],
   "source": [
    "### Load the images and plot them here.\n",
    "### Feel free to use as many code cells as needed."
   ]
  },
  {
   "cell_type": "markdown",
   "metadata": {},
   "source": [
    "### Predict the Sign Type for Each Image"
   ]
  },
  {
   "cell_type": "code",
   "execution_count": 3,
   "metadata": {
    "collapsed": true
   },
   "outputs": [],
   "source": [
    "### Run the predictions here and use the model to output the prediction for each image.\n",
    "### Make sure to pre-process the images with the same pre-processing pipeline used earlier.\n",
    "### Feel free to use as many code cells as needed."
   ]
  },
  {
   "cell_type": "markdown",
   "metadata": {},
   "source": [
    "### Analyze Performance"
   ]
  },
  {
   "cell_type": "code",
   "execution_count": 4,
   "metadata": {
    "collapsed": true
   },
   "outputs": [],
   "source": [
    "### Calculate the accuracy for these 5 new images. \n",
    "### For example, if the model predicted 1 out of 5 signs correctly, it's 20% accurate on these new images."
   ]
  },
  {
   "cell_type": "markdown",
   "metadata": {},
   "source": [
    "### Output Top 5 Softmax Probabilities For Each Image Found on the Web"
   ]
  },
  {
   "cell_type": "markdown",
   "metadata": {},
   "source": [
    "For each of the new images, print out the model's softmax probabilities to show the **certainty** of the model's predictions (limit the output to the top 5 probabilities for each image). [`tf.nn.top_k`](https://www.tensorflow.org/versions/r0.12/api_docs/python/nn.html#top_k) could prove helpful here. \n",
    "\n",
    "The example below demonstrates how tf.nn.top_k can be used to find the top k predictions for each image.\n",
    "\n",
    "`tf.nn.top_k` will return the values and indices (class ids) of the top k predictions. So if k=3, for each sign, it'll return the 3 largest probabilities (out of a possible 43) and the correspoding class ids.\n",
    "\n",
    "Take this numpy array as an example. The values in the array represent predictions. The array contains softmax probabilities for five candidate images with six possible classes. `tk.nn.top_k` is used to choose the three classes with the highest probability:\n",
    "\n",
    "```\n",
    "# (5, 6) array\n",
    "a = np.array([[ 0.24879643,  0.07032244,  0.12641572,  0.34763842,  0.07893497,\n",
    "         0.12789202],\n",
    "       [ 0.28086119,  0.27569815,  0.08594638,  0.0178669 ,  0.18063401,\n",
    "         0.15899337],\n",
    "       [ 0.26076848,  0.23664738,  0.08020603,  0.07001922,  0.1134371 ,\n",
    "         0.23892179],\n",
    "       [ 0.11943333,  0.29198961,  0.02605103,  0.26234032,  0.1351348 ,\n",
    "         0.16505091],\n",
    "       [ 0.09561176,  0.34396535,  0.0643941 ,  0.16240774,  0.24206137,\n",
    "         0.09155967]])\n",
    "```\n",
    "\n",
    "Running it through `sess.run(tf.nn.top_k(tf.constant(a), k=3))` produces:\n",
    "\n",
    "```\n",
    "TopKV2(values=array([[ 0.34763842,  0.24879643,  0.12789202],\n",
    "       [ 0.28086119,  0.27569815,  0.18063401],\n",
    "       [ 0.26076848,  0.23892179,  0.23664738],\n",
    "       [ 0.29198961,  0.26234032,  0.16505091],\n",
    "       [ 0.34396535,  0.24206137,  0.16240774]]), indices=array([[3, 0, 5],\n",
    "       [0, 1, 4],\n",
    "       [0, 5, 1],\n",
    "       [1, 3, 5],\n",
    "       [1, 4, 3]], dtype=int32))\n",
    "```\n",
    "\n",
    "Looking just at the first row we get `[ 0.34763842,  0.24879643,  0.12789202]`, you can confirm these are the 3 largest probabilities in `a`. You'll also notice `[3, 0, 5]` are the corresponding indices."
   ]
  },
  {
   "cell_type": "code",
   "execution_count": 3,
   "metadata": {
    "collapsed": true
   },
   "outputs": [],
   "source": [
    "### Print out the top five softmax probabilities for the predictions on the German traffic sign images found on the web. \n",
    "### Feel free to use as many code cells as needed."
   ]
  },
  {
   "cell_type": "markdown",
   "metadata": {},
   "source": [
    "### Project Writeup\n",
    "\n",
    "Once you have completed the code implementation, document your results in a project writeup using this [template](https://github.com/udacity/CarND-Traffic-Sign-Classifier-Project/blob/master/writeup_template.md) as a guide. The writeup can be in a markdown or pdf file. "
   ]
  },
  {
   "cell_type": "markdown",
   "metadata": {},
   "source": [
    "> **Note**: Once you have completed all of the code implementations and successfully answered each question above, you may finalize your work by exporting the iPython Notebook as an HTML document. You can do this by using the menu above and navigating to  \\n\",\n",
    "    \"**File -> Download as -> HTML (.html)**. Include the finished document along with this notebook as your submission."
   ]
  },
  {
   "cell_type": "markdown",
   "metadata": {},
   "source": [
    "---\n",
    "\n",
    "## Step 4 (Optional): Visualize the Neural Network's State with Test Images\n",
    "\n",
    " This Section is not required to complete but acts as an additional excersise for understaning the output of a neural network's weights. While neural networks can be a great learning device they are often referred to as a black box. We can understand what the weights of a neural network look like better by plotting their feature maps. After successfully training your neural network you can see what it's feature maps look like by plotting the output of the network's weight layers in response to a test stimuli image. From these plotted feature maps, it's possible to see what characteristics of an image the network finds interesting. For a sign, maybe the inner network feature maps react with high activation to the sign's boundary outline or to the contrast in the sign's painted symbol.\n",
    "\n",
    " Provided for you below is the function code that allows you to get the visualization output of any tensorflow weight layer you want. The inputs to the function should be a stimuli image, one used during training or a new one you provided, and then the tensorflow variable name that represents the layer's state during the training process, for instance if you wanted to see what the [LeNet lab's](https://classroom.udacity.com/nanodegrees/nd013/parts/fbf77062-5703-404e-b60c-95b78b2f3f9e/modules/6df7ae49-c61c-4bb2-a23e-6527e69209ec/lessons/601ae704-1035-4287-8b11-e2c2716217ad/concepts/d4aca031-508f-4e0b-b493-e7b706120f81) feature maps looked like for it's second convolutional layer you could enter conv2 as the tf_activation variable.\n",
    "\n",
    "For an example of what feature map outputs look like, check out NVIDIA's results in their paper [End-to-End Deep Learning for Self-Driving Cars](https://devblogs.nvidia.com/parallelforall/deep-learning-self-driving-cars/) in the section Visualization of internal CNN State. NVIDIA was able to show that their network's inner weights had high activations to road boundary lines by comparing feature maps from an image with a clear path to one without. Try experimenting with a similar test to show that your trained network's weights are looking for interesting features, whether it's looking at differences in feature maps from images with or without a sign, or even what feature maps look like in a trained network vs a completely untrained one on the same sign image.\n",
    "\n",
    "<figure>\n",
    " <img src=\"visualize_cnn.png\" width=\"380\" alt=\"Combined Image\" />\n",
    " <figcaption>\n",
    " <p></p> \n",
    " <p style=\"text-align: center;\"> Your output should look something like this (above)</p> \n",
    " </figcaption>\n",
    "</figure>\n",
    " <p></p> \n"
   ]
  },
  {
   "cell_type": "code",
   "execution_count": null,
   "metadata": {
    "collapsed": true
   },
   "outputs": [],
   "source": [
    "### Visualize your network's feature maps here.\n",
    "### Feel free to use as many code cells as needed.\n",
    "\n",
    "# image_input: the test image being fed into the network to produce the feature maps\n",
    "# tf_activation: should be a tf variable name used during your training procedure that represents the calculated state of a specific weight layer\n",
    "# activation_min/max: can be used to view the activation contrast in more detail, by default matplot sets min and max to the actual min and max values of the output\n",
    "# plt_num: used to plot out multiple different weight feature map sets on the same block, just extend the plt number for each new feature map entry\n",
    "\n",
    "def outputFeatureMap(image_input, tf_activation, activation_min=-1, activation_max=-1 ,plt_num=1):\n",
    "    # Here make sure to preprocess your image_input in a way your network expects\n",
    "    # with size, normalization, ect if needed\n",
    "    # image_input =\n",
    "    # Note: x should be the same name as your network's tensorflow data placeholder variable\n",
    "    # If you get an error tf_activation is not defined it may be having trouble accessing the variable from inside a function\n",
    "    activation = tf_activation.eval(session=sess,feed_dict={x : image_input})\n",
    "    featuremaps = activation.shape[3]\n",
    "    plt.figure(plt_num, figsize=(15,15))\n",
    "    for featuremap in range(featuremaps):\n",
    "        plt.subplot(6,8, featuremap+1) # sets the number of feature maps to show on each row and column\n",
    "        plt.title('FeatureMap ' + str(featuremap)) # displays the feature map number\n",
    "        if activation_min != -1 & activation_max != -1:\n",
    "            plt.imshow(activation[0,:,:, featuremap], interpolation=\"nearest\", vmin =activation_min, vmax=activation_max, cmap=\"gray\")\n",
    "        elif activation_max != -1:\n",
    "            plt.imshow(activation[0,:,:, featuremap], interpolation=\"nearest\", vmax=activation_max, cmap=\"gray\")\n",
    "        elif activation_min !=-1:\n",
    "            plt.imshow(activation[0,:,:, featuremap], interpolation=\"nearest\", vmin=activation_min, cmap=\"gray\")\n",
    "        else:\n",
    "            plt.imshow(activation[0,:,:, featuremap], interpolation=\"nearest\", cmap=\"gray\")"
   ]
  }
 ],
 "metadata": {
  "anaconda-cloud": {},
  "kernelspec": {
   "display_name": "Python 3",
   "language": "python",
   "name": "python3"
  },
  "language_info": {
   "codemirror_mode": {
    "name": "ipython",
    "version": 3
   },
   "file_extension": ".py",
   "mimetype": "text/x-python",
   "name": "python",
   "nbconvert_exporter": "python",
   "pygments_lexer": "ipython3",
   "version": "3.5.2"
  },
  "widgets": {
   "state": {},
   "version": "1.1.2"
  }
 },
 "nbformat": 4,
 "nbformat_minor": 1
}
